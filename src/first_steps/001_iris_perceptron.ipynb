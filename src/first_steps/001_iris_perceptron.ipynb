{
 "cells": [
  {
   "cell_type": "markdown",
   "metadata": {},
   "source": [
    "# Perceptron: Linear classification with the Iris data set\n",
    "\n",
    "**Abstract:** In this tutorial we will:\n",
    "* Obtain the Iris flower data set\n",
    "* Load and prepare the respective data set for training\n",
    "* Implement a Perceptron\n",
    "* Carry out the training\n",
    "* Visualize the results"
   ]
  },
  {
   "cell_type": "markdown",
   "metadata": {},
   "source": [
    "First we import the modules we shall use:\n",
    "* `Pandas`: for data import\n",
    "* `Numpy`: for handling operations with arrray\n",
    "* `Matplotlib`: for plotting the data"
   ]
  },
  {
   "cell_type": "code",
   "execution_count": 3,
   "metadata": {},
   "outputs": [],
   "source": [
    "import pandas as pd\n",
    "import numpy as np\n",
    "import matplotlib\n",
    "import matplotlib.pyplot as plt"
   ]
  },
  {
   "cell_type": "markdown",
   "metadata": {},
   "source": [
    "Next we configure the plotting option:"
   ]
  },
  {
   "cell_type": "code",
   "execution_count": 4,
   "metadata": {},
   "outputs": [],
   "source": [
    "%matplotlib inline\n",
    "\n",
    "plt.rcParams[\"figure.figsize\"] = [10, 8]\n",
    "matplotlib.rc(\"savefig\", dpi=200)"
   ]
  },
  {
   "cell_type": "markdown",
   "metadata": {},
   "source": [
    "* The magic `%matplot inline` tells IPython to show the plots within the notebook;\n",
    "* Default figure sizes can be set by `plt.rcParams[\"figure.figsize\"]`;\n",
    "* The `matplotlib.rc` function changes the resolution of the plots."
   ]
  },
  {
   "cell_type": "markdown",
   "metadata": {},
   "source": [
    "We will be using pseudo random numbers, and therefore, need to initialize a seed for the generator. Let us first use a fixed seed to get reproducable results:"
   ]
  },
  {
   "cell_type": "code",
   "execution_count": 5,
   "metadata": {},
   "outputs": [],
   "source": [
    "np.random.seed(13)"
   ]
  },
  {
   "cell_type": "markdown",
   "metadata": {},
   "source": [
    "Fix the random seed by, e.g., `np.random.seed(0)` if you need reproducable results."
   ]
  },
  {
   "cell_type": "markdown",
   "metadata": {},
   "source": [
    "## Load and prepare the Iris flower data set for our linear classification trials\n",
    "\n",
    "The first functions we implement fetches the iris data from an internet archive using a call to the Pandas module and saves it in the current directory under the name `iris.csv`. This function needs to called only once, of course."
   ]
  },
  {
   "cell_type": "code",
   "execution_count": 6,
   "metadata": {},
   "outputs": [],
   "source": [
    "# module for file access\n",
    "import os.path\n",
    "\n",
    "# global file name of our data source\n",
    "file_name = 'iris.csv'\n",
    "\n",
    "def fetch_iris_data():\n",
    "    '''\n",
    "    Fetch data from an internet archive and save as file `iris.csv`.\n",
    "    '''\n",
    "\n",
    "    df = pd.read_csv('http://archive.ics.uci.edu/ml/machine-learning-databases/iris/iris.data',\n",
    "                     header=None)\n",
    "    df.to_csv(file_name, header=None, index=False)\n",
    "\n",
    "    return\n",
    "\n",
    "# fetch data from internet source only if the file is not available locally\n",
    "if not os.path.exists(file_name):\n",
    "    fetch_iris_data()"
   ]
  },
  {
   "cell_type": "markdown",
   "metadata": {},
   "source": [
    "The next cell loads the Iris data from the file `iris.csv` from the current directory into a `Pandas` dataframe."
   ]
  },
  {
   "cell_type": "code",
   "execution_count": 7,
   "metadata": {},
   "outputs": [],
   "source": [
    "df = pd.read_csv(file_name, header=None)"
   ]
  },
  {
   "cell_type": "markdown",
   "metadata": {},
   "source": [
    "The Iris flower data set features three different species: [see here](https://en.wikipedia.org/wiki/Iris_flower_data_set). Let us take a quick look at the data. Here are the first 10 entries:"
   ]
  },
  {
   "cell_type": "code",
   "execution_count": 8,
   "metadata": {},
   "outputs": [
    {
     "data": {
      "text/html": [
       "<div>\n",
       "<style scoped>\n",
       "    .dataframe tbody tr th:only-of-type {\n",
       "        vertical-align: middle;\n",
       "    }\n",
       "\n",
       "    .dataframe tbody tr th {\n",
       "        vertical-align: top;\n",
       "    }\n",
       "\n",
       "    .dataframe thead th {\n",
       "        text-align: right;\n",
       "    }\n",
       "</style>\n",
       "<table border=\"1\" class=\"dataframe\">\n",
       "  <thead>\n",
       "    <tr style=\"text-align: right;\">\n",
       "      <th></th>\n",
       "      <th>0</th>\n",
       "      <th>1</th>\n",
       "      <th>2</th>\n",
       "      <th>3</th>\n",
       "      <th>4</th>\n",
       "    </tr>\n",
       "  </thead>\n",
       "  <tbody>\n",
       "    <tr>\n",
       "      <th>0</th>\n",
       "      <td>5.1</td>\n",
       "      <td>3.5</td>\n",
       "      <td>1.4</td>\n",
       "      <td>0.2</td>\n",
       "      <td>Iris-setosa</td>\n",
       "    </tr>\n",
       "    <tr>\n",
       "      <th>1</th>\n",
       "      <td>4.9</td>\n",
       "      <td>3.0</td>\n",
       "      <td>1.4</td>\n",
       "      <td>0.2</td>\n",
       "      <td>Iris-setosa</td>\n",
       "    </tr>\n",
       "    <tr>\n",
       "      <th>2</th>\n",
       "      <td>4.7</td>\n",
       "      <td>3.2</td>\n",
       "      <td>1.3</td>\n",
       "      <td>0.2</td>\n",
       "      <td>Iris-setosa</td>\n",
       "    </tr>\n",
       "    <tr>\n",
       "      <th>3</th>\n",
       "      <td>4.6</td>\n",
       "      <td>3.1</td>\n",
       "      <td>1.5</td>\n",
       "      <td>0.2</td>\n",
       "      <td>Iris-setosa</td>\n",
       "    </tr>\n",
       "    <tr>\n",
       "      <th>4</th>\n",
       "      <td>5.0</td>\n",
       "      <td>3.6</td>\n",
       "      <td>1.4</td>\n",
       "      <td>0.2</td>\n",
       "      <td>Iris-setosa</td>\n",
       "    </tr>\n",
       "  </tbody>\n",
       "</table>\n",
       "</div>"
      ],
      "text/plain": [
       "     0    1    2    3            4\n",
       "0  5.1  3.5  1.4  0.2  Iris-setosa\n",
       "1  4.9  3.0  1.4  0.2  Iris-setosa\n",
       "2  4.7  3.2  1.3  0.2  Iris-setosa\n",
       "3  4.6  3.1  1.5  0.2  Iris-setosa\n",
       "4  5.0  3.6  1.4  0.2  Iris-setosa"
      ]
     },
     "execution_count": 8,
     "metadata": {},
     "output_type": "execute_result"
    }
   ],
   "source": [
    "df[:5]"
   ]
  },
  {
   "cell_type": "markdown",
   "metadata": {},
   "source": [
    "and the entries from 50 to 55:"
   ]
  },
  {
   "cell_type": "code",
   "execution_count": 9,
   "metadata": {
    "scrolled": true
   },
   "outputs": [
    {
     "data": {
      "text/html": [
       "<div>\n",
       "<style scoped>\n",
       "    .dataframe tbody tr th:only-of-type {\n",
       "        vertical-align: middle;\n",
       "    }\n",
       "\n",
       "    .dataframe tbody tr th {\n",
       "        vertical-align: top;\n",
       "    }\n",
       "\n",
       "    .dataframe thead th {\n",
       "        text-align: right;\n",
       "    }\n",
       "</style>\n",
       "<table border=\"1\" class=\"dataframe\">\n",
       "  <thead>\n",
       "    <tr style=\"text-align: right;\">\n",
       "      <th></th>\n",
       "      <th>0</th>\n",
       "      <th>1</th>\n",
       "      <th>2</th>\n",
       "      <th>3</th>\n",
       "      <th>4</th>\n",
       "    </tr>\n",
       "  </thead>\n",
       "  <tbody>\n",
       "    <tr>\n",
       "      <th>50</th>\n",
       "      <td>7.0</td>\n",
       "      <td>3.2</td>\n",
       "      <td>4.7</td>\n",
       "      <td>1.4</td>\n",
       "      <td>Iris-versicolor</td>\n",
       "    </tr>\n",
       "    <tr>\n",
       "      <th>51</th>\n",
       "      <td>6.4</td>\n",
       "      <td>3.2</td>\n",
       "      <td>4.5</td>\n",
       "      <td>1.5</td>\n",
       "      <td>Iris-versicolor</td>\n",
       "    </tr>\n",
       "    <tr>\n",
       "      <th>52</th>\n",
       "      <td>6.9</td>\n",
       "      <td>3.1</td>\n",
       "      <td>4.9</td>\n",
       "      <td>1.5</td>\n",
       "      <td>Iris-versicolor</td>\n",
       "    </tr>\n",
       "    <tr>\n",
       "      <th>53</th>\n",
       "      <td>5.5</td>\n",
       "      <td>2.3</td>\n",
       "      <td>4.0</td>\n",
       "      <td>1.3</td>\n",
       "      <td>Iris-versicolor</td>\n",
       "    </tr>\n",
       "    <tr>\n",
       "      <th>54</th>\n",
       "      <td>6.5</td>\n",
       "      <td>2.8</td>\n",
       "      <td>4.6</td>\n",
       "      <td>1.5</td>\n",
       "      <td>Iris-versicolor</td>\n",
       "    </tr>\n",
       "  </tbody>\n",
       "</table>\n",
       "</div>"
      ],
      "text/plain": [
       "      0    1    2    3                4\n",
       "50  7.0  3.2  4.7  1.4  Iris-versicolor\n",
       "51  6.4  3.2  4.5  1.5  Iris-versicolor\n",
       "52  6.9  3.1  4.9  1.5  Iris-versicolor\n",
       "53  5.5  2.3  4.0  1.3  Iris-versicolor\n",
       "54  6.5  2.8  4.6  1.5  Iris-versicolor"
      ]
     },
     "execution_count": 9,
     "metadata": {},
     "output_type": "execute_result"
    }
   ],
   "source": [
    "df[50:55]"
   ]
  },
  {
   "cell_type": "markdown",
   "metadata": {},
   "source": [
    "and finally 5 entries starting from entry 100:"
   ]
  },
  {
   "cell_type": "code",
   "execution_count": 10,
   "metadata": {},
   "outputs": [
    {
     "data": {
      "text/html": [
       "<div>\n",
       "<style scoped>\n",
       "    .dataframe tbody tr th:only-of-type {\n",
       "        vertical-align: middle;\n",
       "    }\n",
       "\n",
       "    .dataframe tbody tr th {\n",
       "        vertical-align: top;\n",
       "    }\n",
       "\n",
       "    .dataframe thead th {\n",
       "        text-align: right;\n",
       "    }\n",
       "</style>\n",
       "<table border=\"1\" class=\"dataframe\">\n",
       "  <thead>\n",
       "    <tr style=\"text-align: right;\">\n",
       "      <th></th>\n",
       "      <th>0</th>\n",
       "      <th>1</th>\n",
       "      <th>2</th>\n",
       "      <th>3</th>\n",
       "      <th>4</th>\n",
       "    </tr>\n",
       "  </thead>\n",
       "  <tbody>\n",
       "    <tr>\n",
       "      <th>100</th>\n",
       "      <td>6.3</td>\n",
       "      <td>3.3</td>\n",
       "      <td>6.0</td>\n",
       "      <td>2.5</td>\n",
       "      <td>Iris-virginica</td>\n",
       "    </tr>\n",
       "    <tr>\n",
       "      <th>101</th>\n",
       "      <td>5.8</td>\n",
       "      <td>2.7</td>\n",
       "      <td>5.1</td>\n",
       "      <td>1.9</td>\n",
       "      <td>Iris-virginica</td>\n",
       "    </tr>\n",
       "    <tr>\n",
       "      <th>102</th>\n",
       "      <td>7.1</td>\n",
       "      <td>3.0</td>\n",
       "      <td>5.9</td>\n",
       "      <td>2.1</td>\n",
       "      <td>Iris-virginica</td>\n",
       "    </tr>\n",
       "    <tr>\n",
       "      <th>103</th>\n",
       "      <td>6.3</td>\n",
       "      <td>2.9</td>\n",
       "      <td>5.6</td>\n",
       "      <td>1.8</td>\n",
       "      <td>Iris-virginica</td>\n",
       "    </tr>\n",
       "    <tr>\n",
       "      <th>104</th>\n",
       "      <td>6.5</td>\n",
       "      <td>3.0</td>\n",
       "      <td>5.8</td>\n",
       "      <td>2.2</td>\n",
       "      <td>Iris-virginica</td>\n",
       "    </tr>\n",
       "  </tbody>\n",
       "</table>\n",
       "</div>"
      ],
      "text/plain": [
       "       0    1    2    3               4\n",
       "100  6.3  3.3  6.0  2.5  Iris-virginica\n",
       "101  5.8  2.7  5.1  1.9  Iris-virginica\n",
       "102  7.1  3.0  5.9  2.1  Iris-virginica\n",
       "103  6.3  2.9  5.6  1.8  Iris-virginica\n",
       "104  6.5  3.0  5.8  2.2  Iris-virginica"
      ]
     },
     "execution_count": 10,
     "metadata": {},
     "output_type": "execute_result"
    }
   ],
   "source": [
    "df[100:105]"
   ]
  },
  {
   "cell_type": "markdown",
   "metadata": {},
   "source": [
    "The next function `prep_iris_data` prepares the data for the perceptron training. It reads out the `Pandas` dataframe and stores the desired entries into two `Numpy` arrays which are returned. The first array contains the selected features and the second the labels. Since, here, we only look at a binary classification, we map the three different flow species according to:\n",
    "\n",
    "* Iris setosa: Label $y=-1$\n",
    "* All others: Label $y=+1$\n",
    "\n",
    "Since the data set is sorted by flower species we randomly permute the data before returning the arrays."
   ]
  },
  {
   "cell_type": "code",
   "execution_count": 11,
   "metadata": {},
   "outputs": [],
   "source": [
    "def prep_iris_data(df):\n",
    "    ''' \n",
    "    Fetches 2d data points from the iris data from the pandas dataframe `df` and\n",
    "    return (X, Y), where X is a list of 2d points and Y a list of labels.\n",
    "    '''\n",
    "    \n",
    "    # as feature we take the first two data entries,\n",
    "    # which are sepal length and width\n",
    "    X = df.iloc[:, 0:2].values\n",
    "\n",
    "    # read class labels and convert them to numers as follow:\n",
    "    # `iris-setosa` set to value -1, `iris-versicol` as well as `iris-virginica` to value 1\n",
    "    Y = df.iloc[:, 4].values \n",
    "    Y = np.where(Y == 'Iris-setosa', -1, 1)\n",
    "    \n",
    "    # to make it more realistic, we randomize the data\n",
    "    indices = np.random.permutation(len(X))\n",
    "    X_rand = [X[i] for i in indices]\n",
    "    Y_rand = [Y[i] for i in indices]\n",
    "\n",
    "    # return the randomized lists as numpy arrays\n",
    "    return np.array(X_rand), np.array(Y_rand)"
   ]
  },
  {
   "cell_type": "markdown",
   "metadata": {},
   "source": [
    "Next we need a function to plot the data."
   ]
  },
  {
   "cell_type": "code",
   "execution_count": 12,
   "metadata": {},
   "outputs": [],
   "source": [
    "def plot_data(X, Y):\n",
    "    '''\n",
    "    Plot the data X, setosa in red, and others in blue.\n",
    "    '''\n",
    "\n",
    "    # divide data depedning on the label: iris-setosa or other\n",
    "    X_setosa = []\n",
    "    X_other = []\n",
    "    for x, y in zip(X, Y):\n",
    "        if y == -1:\n",
    "            X_setosa.append(x)\n",
    "        else:\n",
    "            X_other.append(x)\n",
    "   \n",
    "    # convert to numpy array\n",
    "    X_setosa = np.array(X_setosa)\n",
    "    X_other = np.array(X_other)\n",
    "\n",
    "    # plot the two lists with different styles\n",
    "    plt.scatter(X_setosa[:, 0], X_setosa[:, 1], color='red', marker='o', label='setosa')\n",
    "    plt.scatter(X_other[:, 0], X_other[:, 1], color='blue', marker='o', label='other')\n",
    "\n",
    "    # decorate plot\n",
    "    plt.xlabel('sepal length')\n",
    "    plt.ylabel('sepal width')\n",
    "    plt.legend(loc='upper right')\n",
    "\n",
    "    return"
   ]
  },
  {
   "cell_type": "markdown",
   "metadata": {},
   "source": [
    "For the plotting the data set is split into the groups 'Iris-setosa' and 'other' according to the preparation of the data in the previous function. Afterwards we plot these two groups in a different style.\n",
    "\n",
    "Let us load all data from the Iris data set and call the plotting function to take a look at the data:"
   ]
  },
  {
   "cell_type": "code",
   "execution_count": 13,
   "metadata": {},
   "outputs": [
    {
     "data": {
      "image/png": "[encoded data removed]",
      "text/plain": [
       "<Figure size 720x576 with 1 Axes>"
      ]
     },
     "metadata": {},
     "output_type": "display_data"
    }
   ],
   "source": [
    "# if you do not have the csv data file call fetch_iris_data() by removing the comment in the line below\n",
    "# fetch_iris_data()\n",
    "\n",
    "X_all, Y_all = prep_iris_data(df)\n",
    "\n",
    "plot_data(X_all, Y_all)"
   ]
  },
  {
   "cell_type": "markdown",
   "metadata": {},
   "source": [
    "To a good approximation linearly separable. Therefore, without further preparation of the data we can proceed with implementing the perceptron."
   ]
  },
  {
   "cell_type": "markdown",
   "metadata": {},
   "source": [
    "## The Perceptron code\n",
    "\n",
    "We will implement the perceptron as a Python class."
   ]
  },
  {
   "cell_type": "code",
   "execution_count": 14,
   "metadata": {},
   "outputs": [],
   "source": [
    "class Perceptron:\n",
    "\n",
    "    def __init__(self, num):\n",
    "        '''\n",
    "        initialize class for `num` input signals\n",
    "        '''\n",
    "\n",
    "        # weights of the perceptron, initialized to zero\n",
    "        # note the '1 + ' as the first weight entry is the threshold\n",
    "        self.w_ = np.zeros(1 + num)\n",
    "\n",
    "        return\n",
    "    \n",
    "    def activation_input(self, X):\n",
    "        '''\n",
    "        calculate the activation input of the neuron\n",
    "        '''\n",
    "        return np.dot(X, self.w_[1:]) + self.w_[0]\n",
    "\n",
    "    def classify(self, X):\n",
    "        '''\n",
    "        classify the data by sending the activation input through a step function\n",
    "        '''\n",
    "        return np.where(self.activation_input(X) >= 0.0, 1, -1)\n",
    "\n",
    "    def learn(self, X_train, Y_train, eta=0.01, epochs=10):\n",
    "        '''\n",
    "        fit training features X_train with labels Y_train according to learning rate\n",
    "        `eta` and total number of epochs `epochs` and log the misclassifications in errors_\n",
    "        '''\n",
    "\n",
    "        # reset internal list of misclassifications for the logging\n",
    "        self.train_errors_ = []\n",
    "\n",
    "        # repeat `epochs` many times\n",
    "        for _ in range(epochs):\n",
    "            err = 0\n",
    "            # for each pair of features and corresponding label\n",
    "            for x, y in zip(X_train, Y_train):\n",
    "                # compute the update for the weight coefficients\n",
    "                update = eta * ( y - self.classify(x) )\n",
    "                # update the weights\n",
    "                self.w_[1:] += update * x\n",
    "                # update the threshold\n",
    "                self.w_[0] += update\n",
    "                # increment the number of misclassifications if update is not zero\n",
    "                err += int(update != 0.0)\n",
    "            # append the number of misclassifications to the internal list\n",
    "            self.train_errors_.append(err)\n",
    "    \n",
    "        return\n",
    "\n",
    "    def plot_decision_regions(self, X, Y, X_train, Y_train, resolution):\n",
    "\n",
    "        # set up a 2d mesh of data points with resolution `resolution`\n",
    "        x1_min, x1_max = X[:, 0].min() - 2, X[:, 0].max() + 2\n",
    "        x2_min, x2_max = X[:, 1].min() - 2, X[:, 1].max() + 2\n",
    "\n",
    "        xx1, xx2 = np.meshgrid(np.arange(x1_min, x1_max, resolution),\n",
    "                               np.arange(x2_min, x2_max, resolution))\n",
    "\n",
    "        # start new plot\n",
    "        fig = plt.figure()\n",
    "        axs = plt.gca()\n",
    "\n",
    "        # make fictitious feature data out of the above 2d mesh\n",
    "        x_mesh = np.array( [xx1.ravel(), xx2.ravel()] ).T\n",
    "        # let the perceptron classify these features\n",
    "        Z = self.classify(x_mesh)\n",
    "        Z = Z.reshape(xx1.shape)\n",
    "\n",
    "        # plot the mesh as contour plot\n",
    "        axs.contourf(xx1, xx2, Z, alpha=0.4, cmap=matplotlib.colors.ListedColormap(['red', 'blue']))\n",
    "        axs.set_xlim(xx1.min(), xx1.max())\n",
    "        axs.set_ylim(xx2.min(), xx2.max())\n",
    "        \n",
    "        # sort the input data according to the flower species\n",
    "        X_setosa = []\n",
    "        X_other = []\n",
    "        for x, y in zip(X, Y):\n",
    "            if y == -1:\n",
    "                X_setosa.append(x)\n",
    "            else:\n",
    "                X_other.append(x)\n",
    "\n",
    "        # turn the array into numpy arrays\n",
    "        X_setosa = np.array(X_setosa)\n",
    "        X_other = np.array(X_other)\n",
    "\n",
    "        # and make a scatter plot with different styles for the two different species\n",
    "        axs.scatter(X_setosa[:, 0], X_setosa[:, 1], \n",
    "                    color='red', marker='.', label='Setosa')\n",
    "        axs.scatter(X_other[:, 0], X_other[:, 1], \n",
    "                    color='blue', marker='.', label='Other')\n",
    "        \n",
    "        # sort the training data according to the flower species\n",
    "        X_setosa = []\n",
    "        X_other = []\n",
    "        for x, y in zip(X_train, Y_train):\n",
    "            if y == -1:\n",
    "                X_setosa.append(x)\n",
    "            else:\n",
    "                X_other.append(x)\n",
    "\n",
    "        # turn the array into numpy arrays\n",
    "        X_setosa = np.array(X_setosa)\n",
    "        X_other = np.array(X_other)\n",
    "        \n",
    "        # and make a scatter plot with different styles for the two different species\n",
    "        axs.scatter(X_setosa[:, 0], X_setosa[:, 1], \n",
    "                    color='red', marker='x', label='S. training')\n",
    "        axs.scatter(X_other[:, 0], X_other[:, 1], \n",
    "                    color='blue', marker='x', label='O. training')\n",
    "\n",
    "        # add some additional annotations of the plot\n",
    "        axs.set_xlabel('sepal length')\n",
    "        axs.set_ylabel('sepal width')\n",
    "        axs.legend(loc='upper right')\n",
    "        axs.set_title('Perceptron')\n",
    "\n",
    "        return\n",
    "\n",
    "    def plot_train_errors(self):\n",
    "        '''\n",
    "        plot the number of misclassifications per epoch\n",
    "        '''\n",
    "\n",
    "        # create two list, one with epoch numbers, and one with the errors per epoch\n",
    "        epochs, num_errs = np.arange(len(self.train_errors_)), np.array(self.train_errors_)\n",
    "\n",
    "        # plot the above data\n",
    "        fig = plt.figure()\n",
    "        axs = plt.gca()\n",
    "        axs.set_xlabel('epoch')\n",
    "        axs.set_ylabel('errors')\n",
    "        axs.set_title('Errors during training')\n",
    "        plt.plot(epochs, num_errs)\n",
    "\n",
    "        return\n",
    "\n",
    "    def efficiency(self, X_test, Y_test): \n",
    "        '''\n",
    "        compute the efficiency = 1 - number of misclassifications / number of data points\n",
    "        '''\n",
    "\n",
    "        err = 0\n",
    "        \n",
    "        # classify the test data\n",
    "        Z = self.classify(X_test)\n",
    "        for z, y in zip(Z, Y_test):\n",
    "            err += int(z != y)\n",
    "\n",
    "        return 1 - float(err) / len(X_test)"
   ]
  },
  {
   "cell_type": "markdown",
   "metadata": {},
   "source": [
    "##  Carrying out the training\n",
    "\n",
    "The data is split into two parts:\n",
    "\n",
    "* One data set of samples for training \n",
    "* and the other one for testing the classification efficiency of the perceptron."
   ]
  },
  {
   "cell_type": "code",
   "execution_count": 16,
   "metadata": {},
   "outputs": [],
   "source": [
    "train_samples = int( len(X_all) / 3 )\n",
    "\n",
    "# training data\n",
    "X_train, Y_train = X_all[:train_samples], Y_all[:train_samples]\n",
    "\n",
    "# data for testing the efficiency\n",
    "X, Y = X_all[train_samples:], Y_all[train_samples:]"
   ]
  },
  {
   "cell_type": "markdown",
   "metadata": {},
   "source": [
    "Next, we initialize the perceptron:"
   ]
  },
  {
   "cell_type": "code",
   "execution_count": 17,
   "metadata": {},
   "outputs": [],
   "source": [
    "ppn = Perceptron(X.shape[1])"
   ]
  },
  {
   "cell_type": "markdown",
   "metadata": {
    "collapsed": true
   },
   "source": [
    "start the trainning and plot the number of misclassification per epoch:"
   ]
  },
  {
   "cell_type": "code",
   "execution_count": 18,
   "metadata": {},
   "outputs": [
    {
     "data": {
      "image/png": "[encoded data removed]",
      "text/plain": [
       "<Figure size 720x576 with 1 Axes>"
      ]
     },
     "metadata": {},
     "output_type": "display_data"
    }
   ],
   "source": [
    "ppn.learn(X_train, Y_train, eta=0.1, epochs=10)\n",
    "ppn.plot_train_errors()"
   ]
  },
  {
   "cell_type": "markdown",
   "metadata": {},
   "source": [
    "Next, let us plot the decission regions of the perceptron:"
   ]
  },
  {
   "cell_type": "code",
   "execution_count": 16,
   "metadata": {},
   "outputs": [
    {
     "data": {
      "image/png": "[encoded data removed]",
      "text/plain": [
       "<Figure size 720x576 with 1 Axes>"
      ]
     },
     "metadata": {},
     "output_type": "display_data"
    }
   ],
   "source": [
    "ppn.plot_decision_regions(X, Y, X_train, Y_train, 0.02)"
   ]
  },
  {
   "cell_type": "markdown",
   "metadata": {},
   "source": [
    "And finally, we compute the overall efficiency:"
   ]
  },
  {
   "cell_type": "code",
   "execution_count": 17,
   "metadata": {},
   "outputs": [
    {
     "name": "stdout",
     "output_type": "stream",
     "text": [
      "Efficiency (train) = 1.0\n",
      "Efficiency (test)  = 0.99\n",
      "Efficiency (all)   = 0.9933333333333333\n"
     ]
    }
   ],
   "source": [
    "eff_train = ppn.efficiency(X_train, Y_train)\n",
    "eff_test = ppn.efficiency(X, Y)\n",
    "eff_all = ppn.efficiency(X_all, Y_all)\n",
    "\n",
    "print('Efficiency (train) =', eff_train)\n",
    "print('Efficiency (test)  =', eff_test)\n",
    "print('Efficiency (all)   =', eff_all)"
   ]
  },
  {
   "cell_type": "markdown",
   "metadata": {},
   "source": [
    "**HOMEWORK:** The decision regions plot obviously shows a misclassification. This is reflected in the computed efficiency but not in 'Error during training' plot. Why?"
   ]
  }
 ],
 "metadata": {
  "kernelspec": {
   "display_name": "Python 3",
   "language": "python",
   "name": "python3"
  },
  "language_info": {
   "codemirror_mode": {
    "name": "ipython",
    "version": 3
   },
   "file_extension": ".py",
   "mimetype": "text/x-python",
   "name": "python",
   "nbconvert_exporter": "python",
   "pygments_lexer": "ipython3",
   "version": "3.6.4"
  }
 },
 "nbformat": 4,
 "nbformat_minor": 1
}
