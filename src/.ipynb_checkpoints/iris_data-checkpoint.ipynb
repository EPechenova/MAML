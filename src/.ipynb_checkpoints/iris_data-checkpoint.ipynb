{
 "cells": [
  {
   "cell_type": "markdown",
   "metadata": {},
   "source": [
    "# Load and prepare the Iris flower data set for our linear classification trials\n",
    "\n",
    "First we import the modules we shall use:\n",
    "* Pandas: for data import\n",
    "* Numpy: for handling operations with arrray\n",
    "* Matplotlib: for plotting the data"
   ]
  },
  {
   "cell_type": "code",
   "execution_count": 1,
   "metadata": {
    "collapsed": true
   },
   "outputs": [],
   "source": [
    "import pandas as pd\n",
    "import numpy as np\n",
    "import matplotlib.pyplot as pl\n",
    "%matplotlib inline\n",
    "\n",
    "# seed random numbers\n",
    "np.random.seed()"
   ]
  },
  {
   "cell_type": "markdown",
   "metadata": {},
   "source": [
    "* The magic `%matplot inline` tells IPython to show the plots within the notebook;\n",
    "* The `np.random.seed()` functions uses the system time to initialize the pseudo-random number generator.\n",
    "\n",
    "The first function we implement fetches the iris data from an internet archieve unsing call to the Pandas module:"
   ]
  },
  {
   "cell_type": "code",
   "execution_count": 2,
   "metadata": {
    "collapsed": true
   },
   "outputs": [],
   "source": [
    "def load_iris_data():\n",
    "    ''' \n",
    "    Fetches 2d data points from the iris data from the internet archive and\n",
    "    return (X, Y), where X is a list of 2d points and Y a list of labels.\n",
    "    '''\n",
    "   \n",
    "    # fetch data from internet archive\n",
    "    df = pd.read_csv('http://archive.ics.uci.edu/ml/machine-learning-databases/iris/iris.data', header=None) \n",
    "    \n",
    "    # as feature we take the first two data entries,\n",
    "    # which are sepal length and width\n",
    "    X = df.iloc[:, 0:2].values\n",
    "\n",
    "    # read class labels and convert them to numers as follow:\n",
    "    # `iris-setosa` set to value -1, `iris-versicol` as well as `iris-virginica` to value 1\n",
    "    Y = df.iloc[:, 4].values \n",
    "    Y = np.where(Y == 'Iris-setosa', -1, 1)\n",
    "\n",
    "    # to make it more realistic, we randomize the data\n",
    "    indices = np.random.choice(range(len(Y)), len(Y))\n",
    "    X_rand = [X[i] for i in indices]\n",
    "    Y_rand = [Y[i] for i in indices]\n",
    "   \n",
    "    # return the randomized lists as numpy arrays\n",
    "    return np.array(X_rand), np.array(Y_rand)"
   ]
  },
  {
   "cell_type": "markdown",
   "metadata": {},
   "source": [
    "**Note:** The Iris flower data set features three different species: [see here](https://en.wikipedia.org/wiki/Iris_flower_data_set). Because we start with a binary classification algorithm we divide it into two subgroups, the 'Iris-setosa' and 'other' group. \n",
    "\n",
    "The next function will do the plotting."
   ]
  },
  {
   "cell_type": "code",
   "execution_count": 3,
   "metadata": {
    "collapsed": true
   },
   "outputs": [],
   "source": [
    "def plot_data(X, Y):\n",
    "    '''\n",
    "    Plot the data X, setosa in red, and others in blue.\n",
    "    '''\n",
    "\n",
    "    # divide data depedning on the label: iris-setosa or other\n",
    "    X_setosa = []\n",
    "    X_other = []\n",
    "    for x, y in zip(X, Y):\n",
    "        if y == -1:\n",
    "            X_setosa.append(x)\n",
    "        else:\n",
    "            X_other.append(x)\n",
    "   \n",
    "    # convert to numpy array\n",
    "    X_setosa = np.array(X_setosa)\n",
    "    X_other = np.array(X_other)\n",
    "\n",
    "    # plot the two lists with different styles\n",
    "    pl.scatter(X_setosa[:, 0], X_setosa[:, 1], color='red', marker='o', label='setosa')\n",
    "    pl.scatter(X_other[:, 0], X_other[:, 1], color='blue', marker='x', label='other')\n",
    "\n",
    "    # decorate plot\n",
    "    pl.xlabel('sepal length')\n",
    "    pl.ylabel('sepal width')\n",
    "    pl.legend(loc='upper left')\n",
    "\n",
    "    # show plot which does not return until the window is closed\n",
    "    pl.show()\n",
    "\n",
    "    return"
   ]
  },
  {
   "cell_type": "markdown",
   "metadata": {},
   "source": [
    "For the plotting the data set is split into the groups 'Iris-setosa' and 'other' according to the preparation of the data in the previous function. Afterwards we plot these two groups in a different style.\n",
    "\n",
    "Let us take a look at the result:"
   ]
  },
  {
   "cell_type": "code",
   "execution_count": 4,
   "metadata": {
    "collapsed": false
   },
   "outputs": [
    {
     "data": {
      "image/png": "[encoded data removed]",
      "text/plain": [
       "<matplotlib.figure.Figure at 0x10752a898>"
      ]
     },
     "metadata": {},
     "output_type": "display_data"
    }
   ],
   "source": [
    "X, Y = load_iris_data()\n",
    "plot_data(X, Y)"
   ]
  },
  {
   "cell_type": "markdown",
   "metadata": {},
   "source": [
    "## Some Numpy and Matplotlib examples"
   ]
  },
  {
   "cell_type": "code",
   "execution_count": 68,
   "metadata": {
    "collapsed": false
   },
   "outputs": [
    {
     "name": "stdout",
     "output_type": "stream",
     "text": [
      "[1, 2, 3]\n"
     ]
    }
   ],
   "source": [
    "x = [1, 2, 3]\n",
    "print(x)"
   ]
  },
  {
   "cell_type": "code",
   "execution_count": 69,
   "metadata": {
    "collapsed": false
   },
   "outputs": [
    {
     "name": "stdout",
     "output_type": "stream",
     "text": [
      "[4 5 6]\n"
     ]
    }
   ],
   "source": [
    "y = np.array([4, 5, 6])\n",
    "print(y)"
   ]
  },
  {
   "cell_type": "code",
   "execution_count": 70,
   "metadata": {
    "collapsed": false
   },
   "outputs": [
    {
     "name": "stdout",
     "output_type": "stream",
     "text": [
      "[ 4 10 18]\n"
     ]
    }
   ],
   "source": [
    "x = np.array(x)\n",
    "print(x * y)"
   ]
  },
  {
   "cell_type": "code",
   "execution_count": 72,
   "metadata": {
    "collapsed": false
   },
   "outputs": [
    {
     "data": {
      "text/plain": [
       "32"
      ]
     },
     "execution_count": 72,
     "metadata": {},
     "output_type": "execute_result"
    }
   ],
   "source": [
    "np.dot(x, y)"
   ]
  },
  {
   "cell_type": "code",
   "execution_count": 73,
   "metadata": {
    "collapsed": false
   },
   "outputs": [
    {
     "data": {
      "text/plain": [
       "array([ 0.        ,  0.21666156,  0.43332312,  0.64998469,  0.86664625,\n",
       "        1.08330781,  1.29996937,  1.51663094,  1.7332925 ,  1.94995406,\n",
       "        2.16661562,  2.38327719,  2.59993875,  2.81660031,  3.03326187,\n",
       "        3.24992343,  3.466585  ,  3.68324656,  3.89990812,  4.11656968,\n",
       "        4.33323125,  4.54989281,  4.76655437,  4.98321593,  5.1998775 ,\n",
       "        5.41653906,  5.63320062,  5.84986218,  6.06652374,  6.28318531])"
      ]
     },
     "execution_count": 73,
     "metadata": {},
     "output_type": "execute_result"
    }
   ],
   "source": [
    "x = np.linspace(0, 2*np.pi, 30)\n",
    "x"
   ]
  },
  {
   "cell_type": "code",
   "execution_count": 74,
   "metadata": {
    "collapsed": false
   },
   "outputs": [
    {
     "data": {
      "text/plain": [
       "array([  0.00000000e+00,   2.14970440e-01,   4.19889102e-01,\n",
       "         6.05174215e-01,   7.62162055e-01,   8.83512044e-01,\n",
       "         9.63549993e-01,   9.98533414e-01,   9.86826523e-01,\n",
       "         9.28976720e-01,   8.27688998e-01,   6.87699459e-01,\n",
       "         5.15553857e-01,   3.19301530e-01,   1.08119018e-01,\n",
       "        -1.08119018e-01,  -3.19301530e-01,  -5.15553857e-01,\n",
       "        -6.87699459e-01,  -8.27688998e-01,  -9.28976720e-01,\n",
       "        -9.86826523e-01,  -9.98533414e-01,  -9.63549993e-01,\n",
       "        -8.83512044e-01,  -7.62162055e-01,  -6.05174215e-01,\n",
       "        -4.19889102e-01,  -2.14970440e-01,  -2.44929360e-16])"
      ]
     },
     "execution_count": 74,
     "metadata": {},
     "output_type": "execute_result"
    }
   ],
   "source": [
    "np.sin(x)"
   ]
  },
  {
   "cell_type": "code",
   "execution_count": 75,
   "metadata": {
    "collapsed": false
   },
   "outputs": [
    {
     "data": {
      "text/plain": [
       "[<matplotlib.lines.Line2D at 0x10a2b8dd8>]"
      ]
     },
     "execution_count": 75,
     "metadata": {},
     "output_type": "execute_result"
    },
    {
     "data": {
      "image/png": "[encoded data removed]",
      "text/plain": [
       "<matplotlib.figure.Figure at 0x10a1a9cf8>"
      ]
     },
     "metadata": {},
     "output_type": "display_data"
    }
   ],
   "source": [
    "pl.plot(x, np.sin(x))"
   ]
  },
  {
   "cell_type": "code",
   "execution_count": 76,
   "metadata": {
    "collapsed": false
   },
   "outputs": [
    {
     "data": {
      "text/plain": [
       "[<matplotlib.lines.Line2D at 0x10a2cc4a8>]"
      ]
     },
     "execution_count": 76,
     "metadata": {},
     "output_type": "execute_result"
    },
    {
     "data": {
      "image/png": "[encoded data removed]",
      "text/plain": [
       "<matplotlib.figure.Figure at 0x10a2cc4e0>"
      ]
     },
     "metadata": {},
     "output_type": "display_data"
    }
   ],
   "source": [
    "pl.plot(x, np.sin(x))\n",
    "pl.plot(x, np.sin(x),'x', color='red')"
   ]
  },
  {
   "cell_type": "code",
   "execution_count": null,
   "metadata": {
    "collapsed": true
   },
   "outputs": [],
   "source": []
  }
 ],
 "metadata": {
  "kernelspec": {
   "display_name": "Python 3",
   "language": "python",
   "name": "python3"
  },
  "language_info": {
   "codemirror_mode": {
    "name": "ipython",
    "version": 3
   },
   "file_extension": ".py",
   "mimetype": "text/x-python",
   "name": "python",
   "nbconvert_exporter": "python",
   "pygments_lexer": "ipython3",
   "version": "3.5.2"
  }
 },
 "nbformat": 4,
 "nbformat_minor": 1
}
