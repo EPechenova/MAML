{
 "cells": [
  {
   "cell_type": "code",
   "execution_count": 1,
   "metadata": {},
   "outputs": [],
   "source": [
    "import pandas as pd\n",
    "import numpy as np\n",
    "import matplotlib\n",
    "import matplotlib.pyplot as plt"
   ]
  },
  {
   "cell_type": "code",
   "execution_count": 24,
   "metadata": {},
   "outputs": [
    {
     "name": "stdout",
     "output_type": "stream",
     "text": [
      "10000 test images\n",
      "60000 training images\n"
     ]
    },
    {
     "data": {
      "image/png": "[encoded data removed]",
      "text/plain": [
       "<Figure size 432x288 with 1 Axes>"
      ]
     },
     "metadata": {},
     "output_type": "display_data"
    },
    {
     "name": "stdout",
     "output_type": "stream",
     "text": [
      "2\n"
     ]
    },
    {
     "data": {
      "image/png": "[encoded data removed]",
      "text/plain": [
       "<Figure size 432x288 with 1 Axes>"
      ]
     },
     "metadata": {},
     "output_type": "display_data"
    },
    {
     "name": "stdout",
     "output_type": "stream",
     "text": [
      "0\n"
     ]
    }
   ],
   "source": [
    "import mnist\n",
    "\n",
    "data = mnist.MNIST('./MNIST/')\n",
    "print('%d test images' % len(data.test_imgs))\n",
    "print('%d training images' % len(data.train_imgs))\n",
    "\n",
    "# normalize\n",
    "train_data = [(data.train_imgs[i].reshape(data.rows * data.cols, 1) / 255.0, \\\n",
    "               data.train_labels[i]) for i in range(len(data.train_imgs)) \n",
    "              if data.train_labels[i] in (0,1)]\n",
    "\n",
    "test_data = [(data.test_imgs[i].reshape(data.rows * data.cols, 1) / 255.0, \\\n",
    "              data.test_labels[i]) for i in range(len(data.test_imgs))  \n",
    "             if data.test_labels[i] in (0,1)]\n",
    "\n",
    "# two examples\n",
    "plt.imshow(data.test_imgs[1],cmap='Blues')\n",
    "plt.show()\n",
    "print(data.test_labels[1])\n",
    "\n",
    "plt.imshow(data.train_imgs[1],cmap='Blues')\n",
    "plt.show()\n",
    "print(data.train_labels[1])"
   ]
  },
  {
   "cell_type": "code",
   "execution_count": 29,
   "metadata": {},
   "outputs": [
    {
     "name": "stderr",
     "output_type": "stream",
     "text": [
      "IOPub data rate exceeded.\n",
      "The notebook server will temporarily stop sending output\n",
      "to the client in order to avoid crashing it.\n",
      "To change this limit, set the config variable\n",
      "`--NotebookApp.iopub_data_rate_limit`.\n",
      "\n",
      "Current values:\n",
      "NotebookApp.iopub_data_rate_limit=1000000.0 (bytes/sec)\n",
      "NotebookApp.rate_limit_window=3.0 (secs)\n",
      "\n"
     ]
    }
   ],
   "source": [
    "print(test_data)"
   ]
  },
  {
   "cell_type": "code",
   "execution_count": null,
   "metadata": {},
   "outputs": [],
   "source": []
  }
 ],
 "metadata": {
  "kernelspec": {
   "display_name": "Python 3",
   "language": "python",
   "name": "python3"
  },
  "language_info": {
   "codemirror_mode": {
    "name": "ipython",
    "version": 3
   },
   "file_extension": ".py",
   "mimetype": "text/x-python",
   "name": "python",
   "nbconvert_exporter": "python",
   "pygments_lexer": "ipython3",
   "version": "3.6.5"
  }
 },
 "nbformat": 4,
 "nbformat_minor": 2
}
