{
 "cells": [
  {
   "cell_type": "code",
   "execution_count": 1,
   "metadata": {
    "collapsed": true
   },
   "outputs": [],
   "source": [
    "import pandas as pd\n",
    "import numpy as np\n",
    "import matplotlib\n",
    "import matplotlib.pyplot as plt\n",
    "%matplotlib inline"
   ]
  },
  {
   "cell_type": "code",
   "execution_count": 13,
   "metadata": {
    "collapsed": false
   },
   "outputs": [
    {
     "name": "stdout",
     "output_type": "stream",
     "text": [
      "5\n",
      "-13\n",
      "41\n",
      "-121\n",
      "365\n",
      "-1093\n",
      "3281\n",
      "-9841\n",
      "29525\n",
      "-88573\n"
     ]
    }
   ],
   "source": [
    "xi = 2\n",
    "yi = -1\n",
    "wc = 5\n",
    "eta = 1\n",
    "\n",
    "def L(w):\n",
    "    return 1/2 * (1 - w * xi)**2\n",
    "\n",
    "def dw_L(w):\n",
    "    return -(1 - w * xi) * xi\n",
    "\n",
    "def update(w):\n",
    "    return w - eta * dw_L(w)\n",
    "\n",
    "\n",
    "for _ in range(10):\n",
    "    print(wc)\n",
    "    wn = update(wc)\n",
    "    wc = wn"
   ]
  },
  {
   "cell_type": "code",
   "execution_count": null,
   "metadata": {
    "collapsed": true
   },
   "outputs": [],
   "source": []
  }
 ],
 "metadata": {
  "kernelspec": {
   "display_name": "Python 3",
   "language": "python",
   "name": "python3"
  },
  "language_info": {
   "codemirror_mode": {
    "name": "ipython",
    "version": 3
   },
   "file_extension": ".py",
   "mimetype": "text/x-python",
   "name": "python",
   "nbconvert_exporter": "python",
   "pygments_lexer": "ipython3",
   "version": "3.5.2"
  }
 },
 "nbformat": 4,
 "nbformat_minor": 1
}
